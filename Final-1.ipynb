{
 "cells": [
  {
   "cell_type": "code",
   "execution_count": 1,
   "id": "9aa30999",
   "metadata": {},
   "outputs": [
    {
     "name": "stdout",
     "output_type": "stream",
     "text": [
      "Requirement already satisfied: pillow in c:\\users\\malek moussa\\anaconda3\\envs\\tensorflow\\lib\\site-packages (9.1.1)\n",
      "\n",
      "[notice] A new release of pip available: 22.1.2 -> 22.3.1\n",
      "[notice] To update, run: python.exe -m pip install --upgrade pip\n",
      "Note: you may need to restart the kernel to use updated packages.\n"
     ]
    }
   ],
   "source": [
    "pip install pillow"
   ]
  },
  {
   "cell_type": "code",
   "execution_count": 2,
   "id": "a02c308a",
   "metadata": {},
   "outputs": [
    {
     "name": "stdout",
     "output_type": "stream",
     "text": [
      "Requirement already satisfied: graphviz in c:\\users\\malek moussa\\anaconda3\\envs\\tensorflow\\lib\\site-packages (0.20.1)\n",
      "\n",
      "[notice] A new release of pip available: 22.1.2 -> 22.3.1\n",
      "[notice] To update, run: python.exe -m pip install --upgrade pip\n",
      "Note: you may need to restart the kernel to use updated packages.\n"
     ]
    }
   ],
   "source": [
    "pip install graphviz"
   ]
  },
  {
   "cell_type": "code",
   "execution_count": 3,
   "id": "0f67da04",
   "metadata": {},
   "outputs": [
    {
     "name": "stdout",
     "output_type": "stream",
     "text": [
      "Requirement already satisfied: cgraph in c:\\users\\malek moussa\\anaconda3\\envs\\tensorflow\\lib\\site-packages (0.1)\n",
      "\n",
      "[notice] A new release of pip available: 22.1.2 -> 22.3.1\n",
      "[notice] To update, run: python.exe -m pip install --upgrade pip\n",
      "Note: you may need to restart the kernel to use updated packages.\n"
     ]
    }
   ],
   "source": [
    "pip install cgraph"
   ]
  },
  {
   "cell_type": "code",
   "execution_count": 4,
   "id": "bbfc0c60",
   "metadata": {},
   "outputs": [
    {
     "name": "stdout",
     "output_type": "stream",
     "text": [
      "Collecting pygraphviz\n",
      "  Using cached pygraphviz-1.10.zip (120 kB)\n",
      "  Preparing metadata (setup.py): started\n",
      "  Preparing metadata (setup.py): finished with status 'done'\n",
      "Building wheels for collected packages: pygraphviz\n",
      "  Building wheel for pygraphviz (setup.py): started\n",
      "  Building wheel for pygraphviz (setup.py): finished with status 'error'\n",
      "  Running setup.py clean for pygraphviz\n",
      "Failed to build pygraphviz\n",
      "Installing collected packages: pygraphviz\n",
      "  Running setup.py install for pygraphviz: started\n",
      "  Running setup.py install for pygraphviz: finished with status 'error'\n",
      "\n",
      "[notice] A new release of pip available: 22.1.2 -> 22.3.1\n",
      "[notice] To update, run: python.exe -m pip install --upgrade pip\n",
      "Note: you may need to restart the kernel to use updated packages.\n"
     ]
    },
    {
     "name": "stderr",
     "output_type": "stream",
     "text": [
      "  error: subprocess-exited-with-error\n",
      "  \n",
      "  python setup.py bdist_wheel did not run successfully.\n",
      "  exit code: 1\n",
      "  \n",
      "  [54 lines of output]\n",
      "  running bdist_wheel\n",
      "  running build\n",
      "  running build_py\n",
      "  creating build\n",
      "  creating build\\lib.win-amd64-3.9\n",
      "  creating build\\lib.win-amd64-3.9\\pygraphviz\n",
      "  copying pygraphviz\\agraph.py -> build\\lib.win-amd64-3.9\\pygraphviz\n",
      "  copying pygraphviz\\graphviz.py -> build\\lib.win-amd64-3.9\\pygraphviz\n",
      "  copying pygraphviz\\scraper.py -> build\\lib.win-amd64-3.9\\pygraphviz\n",
      "  copying pygraphviz\\testing.py -> build\\lib.win-amd64-3.9\\pygraphviz\n",
      "  copying pygraphviz\\__init__.py -> build\\lib.win-amd64-3.9\\pygraphviz\n",
      "  creating build\\lib.win-amd64-3.9\\pygraphviz\\tests\n",
      "  copying pygraphviz\\tests\\test_attribute_defaults.py -> build\\lib.win-amd64-3.9\\pygraphviz\\tests\n",
      "  copying pygraphviz\\tests\\test_clear.py -> build\\lib.win-amd64-3.9\\pygraphviz\\tests\n",
      "  copying pygraphviz\\tests\\test_close.py -> build\\lib.win-amd64-3.9\\pygraphviz\\tests\n",
      "  copying pygraphviz\\tests\\test_drawing.py -> build\\lib.win-amd64-3.9\\pygraphviz\\tests\n",
      "  copying pygraphviz\\tests\\test_edge_attributes.py -> build\\lib.win-amd64-3.9\\pygraphviz\\tests\n",
      "  copying pygraphviz\\tests\\test_graph.py -> build\\lib.win-amd64-3.9\\pygraphviz\\tests\n",
      "  copying pygraphviz\\tests\\test_html.py -> build\\lib.win-amd64-3.9\\pygraphviz\\tests\n",
      "  copying pygraphviz\\tests\\test_layout.py -> build\\lib.win-amd64-3.9\\pygraphviz\\tests\n",
      "  copying pygraphviz\\tests\\test_node_attributes.py -> build\\lib.win-amd64-3.9\\pygraphviz\\tests\n",
      "  copying pygraphviz\\tests\\test_readwrite.py -> build\\lib.win-amd64-3.9\\pygraphviz\\tests\n",
      "  copying pygraphviz\\tests\\test_repr_mimebundle.py -> build\\lib.win-amd64-3.9\\pygraphviz\\tests\n",
      "  copying pygraphviz\\tests\\test_scraper.py -> build\\lib.win-amd64-3.9\\pygraphviz\\tests\n",
      "  copying pygraphviz\\tests\\test_string.py -> build\\lib.win-amd64-3.9\\pygraphviz\\tests\n",
      "  copying pygraphviz\\tests\\test_subgraph.py -> build\\lib.win-amd64-3.9\\pygraphviz\\tests\n",
      "  copying pygraphviz\\tests\\test_unicode.py -> build\\lib.win-amd64-3.9\\pygraphviz\\tests\n",
      "  copying pygraphviz\\tests\\__init__.py -> build\\lib.win-amd64-3.9\\pygraphviz\\tests\n",
      "  running egg_info\n",
      "  writing pygraphviz.egg-info\\PKG-INFO\n",
      "  writing dependency_links to pygraphviz.egg-info\\dependency_links.txt\n",
      "  writing top-level names to pygraphviz.egg-info\\top_level.txt\n",
      "  reading manifest file 'pygraphviz.egg-info\\SOURCES.txt'\n",
      "  reading manifest template 'MANIFEST.in'\n",
      "  warning: no files found matching '*.png' under directory 'doc'\n",
      "  warning: no files found matching '*.txt' under directory 'doc'\n",
      "  warning: no files found matching '*.css' under directory 'doc'\n",
      "  warning: no previously-included files matching '*~' found anywhere in distribution\n",
      "  warning: no previously-included files matching '*.pyc' found anywhere in distribution\n",
      "  warning: no previously-included files matching '.svn' found anywhere in distribution\n",
      "  no previously-included directories found matching 'doc\\build'\n",
      "  adding license file 'LICENSE'\n",
      "  writing manifest file 'pygraphviz.egg-info\\SOURCES.txt'\n",
      "  copying pygraphviz\\graphviz.i -> build\\lib.win-amd64-3.9\\pygraphviz\n",
      "  copying pygraphviz\\graphviz_wrap.c -> build\\lib.win-amd64-3.9\\pygraphviz\n",
      "  running build_ext\n",
      "  building 'pygraphviz._graphviz' extension\n",
      "  creating build\\temp.win-amd64-3.9\n",
      "  creating build\\temp.win-amd64-3.9\\Release\n",
      "  creating build\\temp.win-amd64-3.9\\Release\\pygraphviz\n",
      "  \"C:\\Program Files (x86)\\Microsoft Visual Studio\\2019\\BuildTools\\VC\\Tools\\MSVC\\14.29.30133\\bin\\HostX86\\x64\\cl.exe\" /c /nologo /O2 /W3 /GL /DNDEBUG /MD -DSWIG_PYTHON_STRICT_BYTE_CHAR -DGVDLL \"-IC:\\Users\\Malek Moussa\\anaconda3\\envs\\Tensorflow\\include\" \"-IC:\\Users\\Malek Moussa\\anaconda3\\envs\\Tensorflow\\Include\" \"-IC:\\Program Files (x86)\\Microsoft Visual Studio\\2019\\BuildTools\\VC\\Tools\\MSVC\\14.29.30133\\include\" \"-IC:\\Program Files (x86)\\Windows Kits\\10\\include\\10.0.19041.0\\ucrt\" \"-IC:\\Program Files (x86)\\Windows Kits\\10\\include\\10.0.19041.0\\shared\" \"-IC:\\Program Files (x86)\\Windows Kits\\10\\include\\10.0.19041.0\\um\" \"-IC:\\Program Files (x86)\\Windows Kits\\10\\include\\10.0.19041.0\\winrt\" \"-IC:\\Program Files (x86)\\Windows Kits\\10\\include\\10.0.19041.0\\cppwinrt\" /Tcpygraphviz/graphviz_wrap.c /Fobuild\\temp.win-amd64-3.9\\Release\\pygraphviz/graphviz_wrap.obj\n",
      "  graphviz_wrap.c\n",
      "  pygraphviz/graphviz_wrap.c(2711): fatal error C1083: Impossible d'ouvrir le fichier include : 'graphviz/cgraph.h' : No such file or directory\n",
      "  error: command 'C:\\\\Program Files (x86)\\\\Microsoft Visual Studio\\\\2019\\\\BuildTools\\\\VC\\\\Tools\\\\MSVC\\\\14.29.30133\\\\bin\\\\HostX86\\\\x64\\\\cl.exe' failed with exit code 2\n",
      "  [end of output]\n",
      "  \n",
      "  note: This error originates from a subprocess, and is likely not a problem with pip.\n",
      "  ERROR: Failed building wheel for pygraphviz\n",
      "  error: subprocess-exited-with-error\n",
      "  \n",
      "  Running setup.py install for pygraphviz did not run successfully.\n",
      "  exit code: 1\n",
      "  \n",
      "  [56 lines of output]\n",
      "  running install\n",
      "  C:\\Users\\Malek Moussa\\anaconda3\\envs\\Tensorflow\\lib\\site-packages\\setuptools\\command\\install.py:34: SetuptoolsDeprecationWarning: setup.py install is deprecated. Use build and pip and other standards-based tools.\n",
      "    warnings.warn(\n",
      "  running build\n",
      "  running build_py\n",
      "  creating build\n",
      "  creating build\\lib.win-amd64-3.9\n",
      "  creating build\\lib.win-amd64-3.9\\pygraphviz\n",
      "  copying pygraphviz\\agraph.py -> build\\lib.win-amd64-3.9\\pygraphviz\n",
      "  copying pygraphviz\\graphviz.py -> build\\lib.win-amd64-3.9\\pygraphviz\n",
      "  copying pygraphviz\\scraper.py -> build\\lib.win-amd64-3.9\\pygraphviz\n",
      "  copying pygraphviz\\testing.py -> build\\lib.win-amd64-3.9\\pygraphviz\n",
      "  copying pygraphviz\\__init__.py -> build\\lib.win-amd64-3.9\\pygraphviz\n",
      "  creating build\\lib.win-amd64-3.9\\pygraphviz\\tests\n",
      "  copying pygraphviz\\tests\\test_attribute_defaults.py -> build\\lib.win-amd64-3.9\\pygraphviz\\tests\n",
      "  copying pygraphviz\\tests\\test_clear.py -> build\\lib.win-amd64-3.9\\pygraphviz\\tests\n",
      "  copying pygraphviz\\tests\\test_close.py -> build\\lib.win-amd64-3.9\\pygraphviz\\tests\n",
      "  copying pygraphviz\\tests\\test_drawing.py -> build\\lib.win-amd64-3.9\\pygraphviz\\tests\n",
      "  copying pygraphviz\\tests\\test_edge_attributes.py -> build\\lib.win-amd64-3.9\\pygraphviz\\tests\n",
      "  copying pygraphviz\\tests\\test_graph.py -> build\\lib.win-amd64-3.9\\pygraphviz\\tests\n",
      "  copying pygraphviz\\tests\\test_html.py -> build\\lib.win-amd64-3.9\\pygraphviz\\tests\n",
      "  copying pygraphviz\\tests\\test_layout.py -> build\\lib.win-amd64-3.9\\pygraphviz\\tests\n",
      "  copying pygraphviz\\tests\\test_node_attributes.py -> build\\lib.win-amd64-3.9\\pygraphviz\\tests\n",
      "  copying pygraphviz\\tests\\test_readwrite.py -> build\\lib.win-amd64-3.9\\pygraphviz\\tests\n",
      "  copying pygraphviz\\tests\\test_repr_mimebundle.py -> build\\lib.win-amd64-3.9\\pygraphviz\\tests\n",
      "  copying pygraphviz\\tests\\test_scraper.py -> build\\lib.win-amd64-3.9\\pygraphviz\\tests\n",
      "  copying pygraphviz\\tests\\test_string.py -> build\\lib.win-amd64-3.9\\pygraphviz\\tests\n",
      "  copying pygraphviz\\tests\\test_subgraph.py -> build\\lib.win-amd64-3.9\\pygraphviz\\tests\n",
      "  copying pygraphviz\\tests\\test_unicode.py -> build\\lib.win-amd64-3.9\\pygraphviz\\tests\n",
      "  copying pygraphviz\\tests\\__init__.py -> build\\lib.win-amd64-3.9\\pygraphviz\\tests\n",
      "  running egg_info\n",
      "  writing pygraphviz.egg-info\\PKG-INFO\n",
      "  writing dependency_links to pygraphviz.egg-info\\dependency_links.txt\n",
      "  writing top-level names to pygraphviz.egg-info\\top_level.txt\n",
      "  reading manifest file 'pygraphviz.egg-info\\SOURCES.txt'\n",
      "  reading manifest template 'MANIFEST.in'\n",
      "  warning: no files found matching '*.png' under directory 'doc'\n",
      "  warning: no files found matching '*.txt' under directory 'doc'\n",
      "  warning: no files found matching '*.css' under directory 'doc'\n",
      "  warning: no previously-included files matching '*~' found anywhere in distribution\n",
      "  warning: no previously-included files matching '*.pyc' found anywhere in distribution\n",
      "  warning: no previously-included files matching '.svn' found anywhere in distribution\n",
      "  no previously-included directories found matching 'doc\\build'\n",
      "  adding license file 'LICENSE'\n",
      "  writing manifest file 'pygraphviz.egg-info\\SOURCES.txt'\n",
      "  copying pygraphviz\\graphviz.i -> build\\lib.win-amd64-3.9\\pygraphviz\n",
      "  copying pygraphviz\\graphviz_wrap.c -> build\\lib.win-amd64-3.9\\pygraphviz\n",
      "  running build_ext\n",
      "  building 'pygraphviz._graphviz' extension\n",
      "  creating build\\temp.win-amd64-3.9\n",
      "  creating build\\temp.win-amd64-3.9\\Release\n",
      "  creating build\\temp.win-amd64-3.9\\Release\\pygraphviz\n",
      "  \"C:\\Program Files (x86)\\Microsoft Visual Studio\\2019\\BuildTools\\VC\\Tools\\MSVC\\14.29.30133\\bin\\HostX86\\x64\\cl.exe\" /c /nologo /O2 /W3 /GL /DNDEBUG /MD -DSWIG_PYTHON_STRICT_BYTE_CHAR -DGVDLL \"-IC:\\Users\\Malek Moussa\\anaconda3\\envs\\Tensorflow\\include\" \"-IC:\\Users\\Malek Moussa\\anaconda3\\envs\\Tensorflow\\Include\" \"-IC:\\Program Files (x86)\\Microsoft Visual Studio\\2019\\BuildTools\\VC\\Tools\\MSVC\\14.29.30133\\include\" \"-IC:\\Program Files (x86)\\Windows Kits\\10\\include\\10.0.19041.0\\ucrt\" \"-IC:\\Program Files (x86)\\Windows Kits\\10\\include\\10.0.19041.0\\shared\" \"-IC:\\Program Files (x86)\\Windows Kits\\10\\include\\10.0.19041.0\\um\" \"-IC:\\Program Files (x86)\\Windows Kits\\10\\include\\10.0.19041.0\\winrt\" \"-IC:\\Program Files (x86)\\Windows Kits\\10\\include\\10.0.19041.0\\cppwinrt\" /Tcpygraphviz/graphviz_wrap.c /Fobuild\\temp.win-amd64-3.9\\Release\\pygraphviz/graphviz_wrap.obj\n",
      "  graphviz_wrap.c\n",
      "  pygraphviz/graphviz_wrap.c(2711): fatal error C1083: Impossible d'ouvrir le fichier include : 'graphviz/cgraph.h' : No such file or directory\n",
      "  error: command 'C:\\\\Program Files (x86)\\\\Microsoft Visual Studio\\\\2019\\\\BuildTools\\\\VC\\\\Tools\\\\MSVC\\\\14.29.30133\\\\bin\\\\HostX86\\\\x64\\\\cl.exe' failed with exit code 2\n",
      "  [end of output]\n",
      "  \n",
      "  note: This error originates from a subprocess, and is likely not a problem with pip.\n",
      "error: legacy-install-failure\n",
      "\n",
      "Encountered error while trying to install package.\n",
      "\n",
      "pygraphviz\n",
      "\n",
      "note: This is an issue with the package mentioned above, not pip.\n",
      "hint: See above for output from the failure.\n"
     ]
    }
   ],
   "source": [
    "pip install pygraphviz"
   ]
  },
  {
   "cell_type": "code",
   "execution_count": 5,
   "id": "44a45612",
   "metadata": {},
   "outputs": [],
   "source": [
    "import networkx as nx"
   ]
  },
  {
   "cell_type": "code",
   "execution_count": 6,
   "id": "fd562a23",
   "metadata": {},
   "outputs": [
    {
     "name": "stdout",
     "output_type": "stream",
     "text": [
      "Requirement already satisfied: pillow in c:\\users\\malek moussa\\anaconda3\\envs\\tensorflow\\lib\\site-packages (9.1.1)\n",
      "\n",
      "[notice] A new release of pip available: 22.1.2 -> 22.3.1\n",
      "[notice] To update, run: python.exe -m pip install --upgrade pip\n",
      "Note: you may need to restart the kernel to use updated packages.\n"
     ]
    }
   ],
   "source": [
    "pip install pillow"
   ]
  },
  {
   "cell_type": "code",
   "execution_count": 7,
   "id": "7322275c",
   "metadata": {},
   "outputs": [],
   "source": [
    "import matplotlib.image as mpimg\n",
    "import numpy as np"
   ]
  },
  {
   "cell_type": "code",
   "execution_count": 8,
   "id": "455c8566",
   "metadata": {},
   "outputs": [
    {
     "data": {
      "image/png": "[encoded data removed]",
      "text/plain": [
       "<Figure size 432x288 with 1 Axes>"
      ]
     },
     "metadata": {
      "needs_background": "light"
     },
     "output_type": "display_data"
    }
   ],
   "source": [
    "from PIL import Image\n",
    "\n",
    "im = Image.open(\"C:/Users/Malek Moussa/Downloads/Nouveau dossier/rcpsp.png\")\n",
    "\n",
    "img = np.array(im)\n",
    "import matplotlib.pyplot as plt\n",
    "plt.imshow(img)\n",
    "plt.show()"
   ]
  },
  {
   "cell_type": "code",
   "execution_count": 9,
   "id": "a12a8b70",
   "metadata": {},
   "outputs": [],
   "source": [
    "G = nx.DiGraph() # Création d'un graphe orienté\n",
    "G.add_weighted_edges_from([(\"S\", 1,3), (\"S\", 2,2), (\"S\", 3,5), (1, 4,4), (1, 5,2), (2, 9,4), (2, 10,6), (3, 8,2), (4, 6,3),\n",
    "     (4, 7,4), (5, 9,4), (5, 10,6), (6, 8,2), (6, 9,4), (7, 8,2), (8, \"F\",0), (9, \"F\",0), (10,\"F\",0)])"
   ]
  },
  {
   "cell_type": "code",
   "execution_count": 10,
   "id": "6524d8e1",
   "metadata": {},
   "outputs": [
    {
     "data": {
      "image/png": "[encoded data removed]",
      "text/plain": [
       "<Figure size 432x288 with 1 Axes>"
      ]
     },
     "metadata": {},
     "output_type": "display_data"
    }
   ],
   "source": [
    "nx.draw_networkx(G)"
   ]
  },
  {
   "cell_type": "code",
   "execution_count": 11,
   "id": "d59d51e7",
   "metadata": {},
   "outputs": [
    {
     "name": "stdout",
     "output_type": "stream",
     "text": [
      "Solution: \n",
      "Job 0: begins at t=0 and finishes at t=0\n",
      "Job 1: begins at t=0 and finishes at t=3\n",
      "Job 2: begins at t=0 and finishes at t=2\n",
      "Job 3: begins at t=6 and finishes at t=11\n",
      "Job 4: begins at t=3 and finishes at t=7\n",
      "Job 5: begins at t=3 and finishes at t=5\n",
      "Job 6: begins at t=11 and finishes at t=14\n",
      "Job 7: begins at t=7 and finishes at t=11\n",
      "Job 8: begins at t=14 and finishes at t=16\n",
      "Job 9: begins at t=17 and finishes at t=21\n",
      "Job 10: begins at t=11 and finishes at t=17\n",
      "Job 11: begins at t=21 and finishes at t=21\n",
      "Temps Total = 21.0\n"
     ]
    }
   ],
   "source": [
    "from itertools import product\n",
    "from mip import Model, xsum, BINARY\n",
    "\n",
    "n = 10  # note there will be exactly 12 jobs (n=10 jobs plus the two 'dummy' ones)\n",
    "\n",
    "p = [0, 3, 2, 5, 4, 2, 3, 4, 2, 4, 6, 0]\n",
    "\n",
    "u = [[0, 0], [5, 1], [0, 4], [1, 4], [1, 3], [3, 2], [3, 1], [2, 4],\n",
    "     [4, 0], [5, 2], [2, 5], [0, 0]]\n",
    "\n",
    "c = [6, 8]\n",
    "\n",
    "S = [[0, 1], [0, 2], [0, 3], [1, 4], [1, 5], [2, 9], [2, 10], [3, 8], [4, 6],\n",
    "     [4, 7], [5, 9], [5, 10], [6, 8], [6, 9], [7, 8], [8, 11], [9, 11], [10, 11]]\n",
    "\n",
    "(R, J, T) = (range(len(c)), range(len(p)), range(sum(p)))\n",
    "\n",
    "model = Model()\n",
    "\n",
    "x = [[model.add_var(name=\"x({},{})\".format(j, t), var_type=BINARY) for t in T] for j in J]\n",
    "\n",
    "model.objective = xsum(t * x[n + 1][t] for t in T)\n",
    "\n",
    "for j in J:\n",
    "    model += xsum(x[j][t] for t in T) == 1\n",
    "\n",
    "for (r, t) in product(R, T):\n",
    "    model += (\n",
    "        xsum(u[j][r] * x[j][t2] for j in J for t2 in range(max(0, t - p[j] + 1), t + 1))\n",
    "        <= c[r])\n",
    "\n",
    "for (j, s) in S:\n",
    "    model += xsum(t * x[s][t] - t * x[j][t] for t in T) >= p[j]\n",
    "\n",
    "model.optimize()\n",
    "\n",
    "print(\"Solution: \")\n",
    "for (j, t) in product(J, T):\n",
    "    if x[j][t].x >= 0.99:\n",
    "        print(\"Job {}: begins at t={} and finishes at t={}\".format(j, t, t+p[j]))\n",
    "print(\"Temps Total = {}\".format(model.objective_value))"
   ]
  },
  {
   "cell_type": "code",
   "execution_count": 12,
   "id": "f77d773a",
   "metadata": {},
   "outputs": [],
   "source": [
    "# Importing the matplotlib.pyplot\n",
    "import matplotlib.pyplot as plt\n",
    "def ressource_1():\n",
    "# Declaring a figure \"gnt\"\n",
    "    fig, gnt = plt.subplots()\n",
    " \n",
    "# Setting Y-axis limits\n",
    "    gnt.set_ylim(0, 5)\n",
    " \n",
    "# Setting X-axis limits\n",
    "    gnt.set_xlim(0, 16)\n",
    " \n",
    "# Setting labels for x-axis and y-axis\n",
    "    gnt.set_xlabel('Diagramme De Gantt')\n",
    "    gnt.set_ylabel('R1')\n",
    " \n",
    "# Setting ticks on y-axis\n",
    "    gnt.set_yticks([1, 3, 5])\n",
    "# Labelling tickes of y-axis\n",
    "    gnt.set_yticklabels(['1', '2', '4'])\n",
    " \n",
    "# Setting graph attribute\n",
    "    gnt.grid(True)\n",
    " \n",
    "# Declaring a bar in schedule\n",
    "    gnt.broken_barh([(0, 2)], (2, 2), facecolors =('tab:orange'))\n",
    " \n",
    "# Declaring multiple bars in at same level and same width\n",
    "    gnt.broken_barh([(0, 3)], (1, 1),\n",
    "                         facecolors ='tab:blue')\n",
    "    gnt.broken_barh([(3, 2)], (2, 2),\n",
    "                         facecolors ='tab:green') \n",
    "    gnt.broken_barh([(3, 4)], (1, 1.5),\n",
    "                         facecolors ='tab:red')\n",
    "    gnt.broken_barh([(7, 3)], (1, 1),\n",
    "                         facecolors ='tab:pink')\n",
    "    gnt.broken_barh([(10, 5)], (1, 2.5),\n",
    "                         facecolors ='tab:cyan')\n",
    "    plt.savefig(\"gantt1.png\")"
   ]
  },
  {
   "cell_type": "code",
   "execution_count": 13,
   "id": "02ef5669",
   "metadata": {},
   "outputs": [],
   "source": [
    "def ressource_2():\n",
    "# Declaring a figure \"gnt\"\n",
    "    fig, gnt = plt.subplots()\n",
    " \n",
    "# Setting Y-axis limits\n",
    "    gnt.set_ylim(0, 5)\n",
    " \n",
    "# Setting X-axis limits\n",
    "    gnt.set_xlim(0, 16)\n",
    " \n",
    "# Setting labels for x-axis and y-axis\n",
    "    gnt.set_xlabel('Diagramme De Gantt')\n",
    "    gnt.set_ylabel('R2')\n",
    " \n",
    "# Setting ticks on y-axis\n",
    "    gnt.set_yticks([1, 3, 5])\n",
    "# Labelling tickes of y-axis\n",
    "    gnt.set_yticklabels(['1', '2', '4'])\n",
    " \n",
    "# Setting graph attribute\n",
    "    gnt.grid(True)\n",
    " \n",
    "# Declaring a bar in schedule\n",
    "    gnt.broken_barh([(0, 2)], (2, 2), facecolors =('tab:orange'))\n",
    " \n",
    "# Declaring multiple bars in at same level and same width\n",
    "    gnt.broken_barh([(0, 3)], (1, 3),\n",
    "                         facecolors ='tab:blue')\n",
    "    gnt.broken_barh([(3, 2)], (2, 1.5),\n",
    "                         facecolors ='tab:green') \n",
    "    gnt.broken_barh([(3, 4)], (1, 1),\n",
    "                         facecolors ='tab:red')\n",
    "    gnt.broken_barh([(7, 3)], (1, 1.5),\n",
    "                         facecolors ='tab:pink')\n",
    "    gnt.broken_barh([(10, 3)], (1, 2.5),\n",
    "                         facecolors ='tab:cyan')\n",
    "    plt.savefig(\"gantt2.png\")"
   ]
  },
  {
   "cell_type": "code",
   "execution_count": 14,
   "id": "47044f06",
   "metadata": {},
   "outputs": [
    {
     "data": {
      "image/png": "[encoded data removed]",
      "text/plain": [
       "<Figure size 432x288 with 1 Axes>"
      ]
     },
     "metadata": {
      "needs_background": "light"
     },
     "output_type": "display_data"
    },
    {
     "data": {
      "image/png": "[encoded data removed]",
      "text/plain": [
       "<Figure size 432x288 with 1 Axes>"
      ]
     },
     "metadata": {
      "needs_background": "light"
     },
     "output_type": "display_data"
    }
   ],
   "source": [
    "ressource_1()\n",
    "ressource_2()"
   ]
  },
  {
   "cell_type": "code",
   "execution_count": 15,
   "id": "22cda408",
   "metadata": {},
   "outputs": [
    {
     "name": "stdout",
     "output_type": "stream",
     "text": [
      "\n",
      "[notice] A new release of pip available: 22.1.2 -> 22.3.1\n",
      "[notice] To update, run: python.exe -m pip install --upgrade pip\n",
      "Note: you may need to restart the kernel to use updated packages.\n"
     ]
    },
    {
     "name": "stderr",
     "output_type": "stream",
     "text": [
      "ERROR: Could not find a version that satisfies the requirement kalis (from versions: none)\n",
      "ERROR: No matching distribution found for kalis\n"
     ]
    }
   ],
   "source": [
    "pip install kalis"
   ]
  },
  {
   "cell_type": "code",
   "execution_count": 16,
   "id": "b60824d3",
   "metadata": {},
   "outputs": [
    {
     "ename": "ModuleNotFoundError",
     "evalue": "No module named 'kalis'",
     "output_type": "error",
     "traceback": [
      "\u001b[1;31m---------------------------------------------------------------------------\u001b[0m",
      "\u001b[1;31mModuleNotFoundError\u001b[0m                       Traceback (most recent call last)",
      "Input \u001b[1;32mIn [16]\u001b[0m, in \u001b[0;36m<cell line: 1>\u001b[1;34m()\u001b[0m\n\u001b[1;32m----> 1\u001b[0m \u001b[38;5;28;01mfrom\u001b[39;00m \u001b[38;5;21;01mkalis\u001b[39;00m \u001b[38;5;28;01mimport\u001b[39;00m \u001b[38;5;241m*\u001b[39m\n\u001b[0;32m      4\u001b[0m \u001b[38;5;66;03m### Données\u001b[39;00m\n\u001b[0;32m      5\u001b[0m n \u001b[38;5;241m=\u001b[39m \u001b[38;5;241m9\u001b[39m  \u001b[38;5;66;03m# note there will be exactly 12 jobs (n=10 jobs plus the two 'dummy' ones)\u001b[39;00m\n",
      "\u001b[1;31mModuleNotFoundError\u001b[0m: No module named 'kalis'"
     ]
    }
   ],
   "source": [
    "from kalis import *\n",
    "\n",
    "\n",
    "### Données\n",
    "n = 9  # note there will be exactly 12 jobs (n=10 jobs plus the two 'dummy' ones)\n",
    "\n",
    "p = [0,2,4,2,2,3,5, 0]\n",
    "\n",
    "u = [[0,0,0,0], [2,0,1,0], [0,1,0,1], [2,0,1,0], [0,1,1,0], [1,0,0,1], [0,1,0,1], [1,0,0,0],\n",
    "     [0,0,0,0]]#Nombre de ressources de type k 1, ,K nécessaires pour la tâche  j 1, ,N\n",
    "\n",
    "c = [1,1,1,1]\n",
    "\n",
    "S = [[1,7], [1,2], [1,4], [1, 6], [7,8], [2,3], [2, 5], [4,5], [8, 9],\n",
    "     [3,9], [5,9], [6,9]]\n",
    "K=4 #nombre de types de ressources\n",
    "R1=2\n",
    "R2=1\n",
    "R3=1\n",
    "R4=1\n",
    "T=15\n",
    "\n",
    "M=[[R11,0], [R12,1], [R2,0], [R3, 1], [R4,1]]\n",
    "Sites=2\n",
    "Temps_depl=2\n",
    "Loc=[[R11,1], [R12,0], [R2,2], [R3,0], [R4,0]]\n",
    "H=100\n",
    "\n",
    "\n",
    "###variables\n",
    "\n",
    "for j in range(1,n): \n",
    "  for t in range(1,T):\n",
    "    X[j,t]=[1 if j <= t  else  0 ]\n",
    "for j in range(1,n):\n",
    "  for s in range(1,S):\n",
    "    Z[j,s] =[1 if ]\n",
    "for j in range(1,n):\n",
    "  for h in range(1,n):\n",
    "    w[j,h]= [1 if ]\n",
    "\n",
    "    \n",
    "#Contraintes\n",
    "\n",
    "\n",
    "\n",
    "#La non préemption et la réalisation des tâches sont assurées\n",
    "#Contrainte 1\n",
    "for i in I:\n",
    "    m += xsum(x[j][t] for j in rang(1,N)) =1\n",
    "    \n",
    "    \n",
    "    \n",
    "#déplacement est à prendre en compte (Deux tâches sont reliées par une contrainte de précédence   \n",
    "#Contrainte 2\n",
    "for i in I:\n",
    "    m += xsum(w[j][h] for h in rang(1,N)) =1\n",
    "    \n",
    "\n",
    "    \n",
    "#La contrainte 3 exprime le calcul des dates de fin des\n",
    "#tâches en intégrant les temps de déplacement qui sont fonction des sites sur lesquels\n",
    "#les tâches sont affectées.\n",
    "\n",
    "#Contrainte 3\n",
    "for i in I:\n",
    "    m += xsum(t* x[j][t] for t in rang(1,T)) => xsum(t* x[h][t] for t in rang(1,T)) +p[j]\n",
    "\n",
    "    \n",
    "    \n",
    "#Le respect des dates de fin de tâche par rapport aux tâches fictives    \n",
    "#Contrainte4\n",
    "for i in I:\n",
    "    m += xsum(Y[j][k][r] for r in rang(1,R)) = r[j,k] for j in rang(1,N) , for k in rang(1,K)\n",
    "\n",
    "    \n",
    "#Chaque tâche est exécutée sur un seul site  \n",
    "#Contrainte5 \n",
    "for l in L:\n",
    "    model += xsum(Z[j][s] for s in rang(1,S)) == 1\n",
    "\n",
    "\n",
    "###################\n",
    "(R, J, T) = (range(len(c)), range(len(p)), range(sum(p)))\n",
    "\n",
    "model = Model()\n",
    "\n",
    "x = [[model.add_var(name=\"x({},{})\".format(j, t), var_type=BINARY) for t in T] for j in J]\n",
    "\n",
    "model.objective = xsum(t * x[n + 1][t] for t in T)\n",
    "\n",
    "for j in J:\n",
    "    model += xsum(x[j][t] for t in T) == 1\n",
    "\n",
    "for (r, t) in product(R, T):\n",
    "    model += (\n",
    "        xsum(u[j][r] * x[j][t2] for j in J for t2 in range(max(0, t - p[j] + 1), t + 1))\n",
    "        <= c[r])\n",
    "\n",
    "for (j, s) in S:\n",
    "    model += xsum(t * x[s][t] - t * x[j][t] for t in T) >= p[j]\n",
    "\n",
    "model.optimize()\n",
    "\n",
    "print(\"Solution: \")\n",
    "for (j, t) in product(J, T):\n",
    "    if x[j][t].x >= 0.99:\n",
    "        print(\"Job {}: begins at t={} and finishes at t={}\".format(j, t, t+p[j]))\n",
    "print(\"Temps Total = {}\".format(model.objective_value))"
   ]
  }
 ],
 "metadata": {
  "kernelspec": {
   "display_name": "Python 3 (ipykernel)",
   "language": "python",
   "name": "python3"
  },
  "language_info": {
   "codemirror_mode": {
    "name": "ipython",
    "version": 3
   },
   "file_extension": ".py",
   "mimetype": "text/x-python",
   "name": "python",
   "nbconvert_exporter": "python",
   "pygments_lexer": "ipython3",
   "version": "3.9.12"
  }
 },
 "nbformat": 4,
 "nbformat_minor": 5
}
